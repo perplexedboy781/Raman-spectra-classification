{
 "cells": [
  {
   "cell_type": "code",
   "execution_count": 1,
   "id": "8a8cf1b1",
   "metadata": {},
   "outputs": [],
   "source": [
    "import torch\n",
    "import numpy as np\n",
    "import csv,os\n",
    "import xlwings as xw\n",
    "from Spectral_preprocess import airpls,SG,max_min \n",
    "import torch"
   ]
  },
  {
   "cell_type": "code",
   "execution_count": 2,
   "id": "d776e8a2",
   "metadata": {},
   "outputs": [],
   "source": [
    "app = xw.App(visible=False, add_book=False)\n",
    "workbook = app.books.open('original-data.xlsx')\n",
    "sheets_count = workbook.sheets.count\n",
    "data=[]\n",
    "for i in range(sheets_count):\n",
    "    worksheet=workbook.sheets[i]\n",
    "    data_ = worksheet.range('B1').expand().options(np.array).value\n",
    "    m,n = data_.shape\n",
    "    #print(m,n)\n",
    "    label_=np.array(list(worksheet.name),dtype=int)\n",
    "    k=int(label_.shape[0])\n",
    "    label_=np.ones(25*k).reshape(k,25).T*label_.T\n",
    "    data_=data_[:,:25]\n",
    "    if i==0:\n",
    "        data=data_\n",
    "        label=label_\n",
    "    else:\n",
    "        data=np.concatenate((data,data_),axis=1)\n",
    "        label=np.concatenate((label,label_), axis=0)\n",
    "data=data.T\n",
    "#print(data.shape,label.shape)\n",
    "workbook.close()\n",
    "app.quit()"
   ]
  },
  {
   "cell_type": "code",
   "execution_count": 4,
   "id": "0af34915",
   "metadata": {},
   "outputs": [
    {
     "data": {
      "text/plain": [
       "numpy.float64"
      ]
     },
     "execution_count": 4,
     "metadata": {},
     "output_type": "execute_result"
    }
   ],
   "source": [
    "type(data[0,0])"
   ]
  },
  {
   "cell_type": "code",
   "execution_count": 28,
   "id": "83b24ab5",
   "metadata": {},
   "outputs": [],
   "source": [
    "#data=SG(data)\n",
    "#data=airpls(data)\n",
    "data=data[:,160:783]\n",
    "data=max_min(data)\n",
    "data = data.reshape(31, 25, 623).swapaxes(0, 1).reshape(775, 1, 623)\n",
    "label = label.reshape(31, 25, 5).swapaxes(0, 1).reshape(775, 5)\n",
    "data_train =torch.from_numpy( data[:int(0.7 * len(data))])\n",
    "label_train =torch.from_numpy( label[:int(0.7 * len(label))])\n",
    "data_val= torch.from_numpy( data[int(0.7 * len(data)):int(0.8 * len(data))])\n",
    "label_val =torch.from_numpy( label[int(0.7 * len(label)):int(0.8 * len(label))])\n",
    "data_test= torch.from_numpy( data[int(0.8 * len(data)):])\n",
    "label_test=torch.from_numpy( label[int(0.8 * len(label)):])\n",
    "torch.save((data_train,label_train),'train.pt')\n",
    "torch.save((data_val,label_val),'val.pt')\n",
    "torch.save((data_test,label_test),'test.pt')"
   ]
  }
 ],
 "metadata": {
  "kernelspec": {
   "display_name": "Python (pt)",
   "language": "python",
   "name": "pytorch"
  },
  "language_info": {
   "codemirror_mode": {
    "name": "ipython",
    "version": 3
   },
   "file_extension": ".py",
   "mimetype": "text/x-python",
   "name": "python",
   "nbconvert_exporter": "python",
   "pygments_lexer": "ipython3",
   "version": "3.10.12"
  }
 },
 "nbformat": 4,
 "nbformat_minor": 5
}
